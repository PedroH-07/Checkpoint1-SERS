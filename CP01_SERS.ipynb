{
  "nbformat": 4,
  "nbformat_minor": 0,
  "metadata": {
    "colab": {
      "provenance": [],
      "include_colab_link": true
    },
    "kernelspec": {
      "name": "python3",
      "display_name": "Python 3"
    },
    "language_info": {
      "name": "python"
    }
  },
  "cells": [
    {
      "cell_type": "markdown",
      "metadata": {
        "id": "view-in-github",
        "colab_type": "text"
      },
      "source": [
        "<a href=\"https://colab.research.google.com/github/PedroH-07/Checkpoint1-SERS/blob/main/CP01_SERS.ipynb\" target=\"_parent\"><img src=\"https://colab.research.google.com/assets/colab-badge.svg\" alt=\"Open In Colab\"/></a>"
      ]
    },
    {
      "cell_type": "code",
      "execution_count": 17,
      "metadata": {
        "id": "j2LU3FYO-oC_"
      },
      "outputs": [],
      "source": [
        "import pandas as pd"
      ]
    },
    {
      "cell_type": "code",
      "source": [
        "df = pd.read_csv(\"/content/household_power_consumption.txt\", sep=';')"
      ],
      "metadata": {
        "colab": {
          "base_uri": "https://localhost:8080/",
          "height": 339
        },
        "id": "yAfBmTgI-2W8",
        "outputId": "bd1afad4-437f-4961-f79a-9438bbb2a21b"
      },
      "execution_count": 18,
      "outputs": [
        {
          "output_type": "error",
          "ename": "FileNotFoundError",
          "evalue": "[Errno 2] No such file or directory: '/content/household_power_consumption.txt'",
          "traceback": [
            "\u001b[0;31m---------------------------------------------------------------------------\u001b[0m",
            "\u001b[0;31mFileNotFoundError\u001b[0m                         Traceback (most recent call last)",
            "\u001b[0;32m/tmp/ipython-input-4025975215.py\u001b[0m in \u001b[0;36m<cell line: 0>\u001b[0;34m()\u001b[0m\n\u001b[0;32m----> 1\u001b[0;31m \u001b[0mdf\u001b[0m \u001b[0;34m=\u001b[0m \u001b[0mpd\u001b[0m\u001b[0;34m.\u001b[0m\u001b[0mread_csv\u001b[0m\u001b[0;34m(\u001b[0m\u001b[0;34m\"/content/household_power_consumption.txt\"\u001b[0m\u001b[0;34m,\u001b[0m \u001b[0msep\u001b[0m\u001b[0;34m=\u001b[0m\u001b[0;34m';'\u001b[0m\u001b[0;34m)\u001b[0m\u001b[0;34m\u001b[0m\u001b[0;34m\u001b[0m\u001b[0m\n\u001b[0m",
            "\u001b[0;32m/usr/local/lib/python3.12/dist-packages/pandas/io/parsers/readers.py\u001b[0m in \u001b[0;36mread_csv\u001b[0;34m(filepath_or_buffer, sep, delimiter, header, names, index_col, usecols, dtype, engine, converters, true_values, false_values, skipinitialspace, skiprows, skipfooter, nrows, na_values, keep_default_na, na_filter, verbose, skip_blank_lines, parse_dates, infer_datetime_format, keep_date_col, date_parser, date_format, dayfirst, cache_dates, iterator, chunksize, compression, thousands, decimal, lineterminator, quotechar, quoting, doublequote, escapechar, comment, encoding, encoding_errors, dialect, on_bad_lines, delim_whitespace, low_memory, memory_map, float_precision, storage_options, dtype_backend)\u001b[0m\n\u001b[1;32m   1024\u001b[0m     \u001b[0mkwds\u001b[0m\u001b[0;34m.\u001b[0m\u001b[0mupdate\u001b[0m\u001b[0;34m(\u001b[0m\u001b[0mkwds_defaults\u001b[0m\u001b[0;34m)\u001b[0m\u001b[0;34m\u001b[0m\u001b[0;34m\u001b[0m\u001b[0m\n\u001b[1;32m   1025\u001b[0m \u001b[0;34m\u001b[0m\u001b[0m\n\u001b[0;32m-> 1026\u001b[0;31m     \u001b[0;32mreturn\u001b[0m \u001b[0m_read\u001b[0m\u001b[0;34m(\u001b[0m\u001b[0mfilepath_or_buffer\u001b[0m\u001b[0;34m,\u001b[0m \u001b[0mkwds\u001b[0m\u001b[0;34m)\u001b[0m\u001b[0;34m\u001b[0m\u001b[0;34m\u001b[0m\u001b[0m\n\u001b[0m\u001b[1;32m   1027\u001b[0m \u001b[0;34m\u001b[0m\u001b[0m\n\u001b[1;32m   1028\u001b[0m \u001b[0;34m\u001b[0m\u001b[0m\n",
            "\u001b[0;32m/usr/local/lib/python3.12/dist-packages/pandas/io/parsers/readers.py\u001b[0m in \u001b[0;36m_read\u001b[0;34m(filepath_or_buffer, kwds)\u001b[0m\n\u001b[1;32m    618\u001b[0m \u001b[0;34m\u001b[0m\u001b[0m\n\u001b[1;32m    619\u001b[0m     \u001b[0;31m# Create the parser.\u001b[0m\u001b[0;34m\u001b[0m\u001b[0;34m\u001b[0m\u001b[0m\n\u001b[0;32m--> 620\u001b[0;31m     \u001b[0mparser\u001b[0m \u001b[0;34m=\u001b[0m \u001b[0mTextFileReader\u001b[0m\u001b[0;34m(\u001b[0m\u001b[0mfilepath_or_buffer\u001b[0m\u001b[0;34m,\u001b[0m \u001b[0;34m**\u001b[0m\u001b[0mkwds\u001b[0m\u001b[0;34m)\u001b[0m\u001b[0;34m\u001b[0m\u001b[0;34m\u001b[0m\u001b[0m\n\u001b[0m\u001b[1;32m    621\u001b[0m \u001b[0;34m\u001b[0m\u001b[0m\n\u001b[1;32m    622\u001b[0m     \u001b[0;32mif\u001b[0m \u001b[0mchunksize\u001b[0m \u001b[0;32mor\u001b[0m \u001b[0miterator\u001b[0m\u001b[0;34m:\u001b[0m\u001b[0;34m\u001b[0m\u001b[0;34m\u001b[0m\u001b[0m\n",
            "\u001b[0;32m/usr/local/lib/python3.12/dist-packages/pandas/io/parsers/readers.py\u001b[0m in \u001b[0;36m__init__\u001b[0;34m(self, f, engine, **kwds)\u001b[0m\n\u001b[1;32m   1618\u001b[0m \u001b[0;34m\u001b[0m\u001b[0m\n\u001b[1;32m   1619\u001b[0m         \u001b[0mself\u001b[0m\u001b[0;34m.\u001b[0m\u001b[0mhandles\u001b[0m\u001b[0;34m:\u001b[0m \u001b[0mIOHandles\u001b[0m \u001b[0;34m|\u001b[0m \u001b[0;32mNone\u001b[0m \u001b[0;34m=\u001b[0m \u001b[0;32mNone\u001b[0m\u001b[0;34m\u001b[0m\u001b[0;34m\u001b[0m\u001b[0m\n\u001b[0;32m-> 1620\u001b[0;31m         \u001b[0mself\u001b[0m\u001b[0;34m.\u001b[0m\u001b[0m_engine\u001b[0m \u001b[0;34m=\u001b[0m \u001b[0mself\u001b[0m\u001b[0;34m.\u001b[0m\u001b[0m_make_engine\u001b[0m\u001b[0;34m(\u001b[0m\u001b[0mf\u001b[0m\u001b[0;34m,\u001b[0m \u001b[0mself\u001b[0m\u001b[0;34m.\u001b[0m\u001b[0mengine\u001b[0m\u001b[0;34m)\u001b[0m\u001b[0;34m\u001b[0m\u001b[0;34m\u001b[0m\u001b[0m\n\u001b[0m\u001b[1;32m   1621\u001b[0m \u001b[0;34m\u001b[0m\u001b[0m\n\u001b[1;32m   1622\u001b[0m     \u001b[0;32mdef\u001b[0m \u001b[0mclose\u001b[0m\u001b[0;34m(\u001b[0m\u001b[0mself\u001b[0m\u001b[0;34m)\u001b[0m \u001b[0;34m->\u001b[0m \u001b[0;32mNone\u001b[0m\u001b[0;34m:\u001b[0m\u001b[0;34m\u001b[0m\u001b[0;34m\u001b[0m\u001b[0m\n",
            "\u001b[0;32m/usr/local/lib/python3.12/dist-packages/pandas/io/parsers/readers.py\u001b[0m in \u001b[0;36m_make_engine\u001b[0;34m(self, f, engine)\u001b[0m\n\u001b[1;32m   1878\u001b[0m                 \u001b[0;32mif\u001b[0m \u001b[0;34m\"b\"\u001b[0m \u001b[0;32mnot\u001b[0m \u001b[0;32min\u001b[0m \u001b[0mmode\u001b[0m\u001b[0;34m:\u001b[0m\u001b[0;34m\u001b[0m\u001b[0;34m\u001b[0m\u001b[0m\n\u001b[1;32m   1879\u001b[0m                     \u001b[0mmode\u001b[0m \u001b[0;34m+=\u001b[0m \u001b[0;34m\"b\"\u001b[0m\u001b[0;34m\u001b[0m\u001b[0;34m\u001b[0m\u001b[0m\n\u001b[0;32m-> 1880\u001b[0;31m             self.handles = get_handle(\n\u001b[0m\u001b[1;32m   1881\u001b[0m                 \u001b[0mf\u001b[0m\u001b[0;34m,\u001b[0m\u001b[0;34m\u001b[0m\u001b[0;34m\u001b[0m\u001b[0m\n\u001b[1;32m   1882\u001b[0m                 \u001b[0mmode\u001b[0m\u001b[0;34m,\u001b[0m\u001b[0;34m\u001b[0m\u001b[0;34m\u001b[0m\u001b[0m\n",
            "\u001b[0;32m/usr/local/lib/python3.12/dist-packages/pandas/io/common.py\u001b[0m in \u001b[0;36mget_handle\u001b[0;34m(path_or_buf, mode, encoding, compression, memory_map, is_text, errors, storage_options)\u001b[0m\n\u001b[1;32m    871\u001b[0m         \u001b[0;32mif\u001b[0m \u001b[0mioargs\u001b[0m\u001b[0;34m.\u001b[0m\u001b[0mencoding\u001b[0m \u001b[0;32mand\u001b[0m \u001b[0;34m\"b\"\u001b[0m \u001b[0;32mnot\u001b[0m \u001b[0;32min\u001b[0m \u001b[0mioargs\u001b[0m\u001b[0;34m.\u001b[0m\u001b[0mmode\u001b[0m\u001b[0;34m:\u001b[0m\u001b[0;34m\u001b[0m\u001b[0;34m\u001b[0m\u001b[0m\n\u001b[1;32m    872\u001b[0m             \u001b[0;31m# Encoding\u001b[0m\u001b[0;34m\u001b[0m\u001b[0;34m\u001b[0m\u001b[0m\n\u001b[0;32m--> 873\u001b[0;31m             handle = open(\n\u001b[0m\u001b[1;32m    874\u001b[0m                 \u001b[0mhandle\u001b[0m\u001b[0;34m,\u001b[0m\u001b[0;34m\u001b[0m\u001b[0;34m\u001b[0m\u001b[0m\n\u001b[1;32m    875\u001b[0m                 \u001b[0mioargs\u001b[0m\u001b[0;34m.\u001b[0m\u001b[0mmode\u001b[0m\u001b[0;34m,\u001b[0m\u001b[0;34m\u001b[0m\u001b[0;34m\u001b[0m\u001b[0m\n",
            "\u001b[0;31mFileNotFoundError\u001b[0m: [Errno 2] No such file or directory: '/content/household_power_consumption.txt'"
          ]
        }
      ]
    },
    {
      "cell_type": "markdown",
      "source": [
        "# **01 - Carregue o dataset e exibe as 10 primeiras linhas**"
      ],
      "metadata": {
        "id": "-UCczCh2Ln9S"
      }
    },
    {
      "cell_type": "code",
      "source": [
        "df.head(11)"
      ],
      "metadata": {
        "id": "ARRoKOwx_CPk"
      },
      "execution_count": null,
      "outputs": []
    },
    {
      "cell_type": "markdown",
      "source": [
        "## **02 diferença entre Global_active_power e Global_reactive_power**\n",
        "\n",
        "Global_active_power: Esta coluna representa a potência ativa total consumida pela residência em quilowatts (kW). A potência ativa é a potência real que realiza trabalho útil, como acender lâmpadas, fazer funcionar motores, etc. É a energia que você realmente \"usa\" e pela qual paga na sua conta de eletricidade.\n",
        "\n",
        "Global_reactive_power: Esta coluna representa a potência reativa total consumida pela residência em quilovolt-ampère reativo (kVAr). A potência reativa é a potência que não realiza trabalho útil diretamente, mas é necessária para criar campos magnéticos em equipamentos como motores, transformadores e reatores. Ela não é convertida em trabalho, mas é necessária para que a potência ativa possa ser entregue."
      ],
      "metadata": {
        "id": "o_p1cVCaLZAh"
      }
    },
    {
      "cell_type": "markdown",
      "source": [
        "## **03 Verifique se tem valores ausentes e quantifique-os**"
      ],
      "metadata": {
        "id": "tJW1QSQpL_ix"
      }
    },
    {
      "cell_type": "code",
      "source": [
        "missing_values = df.isnull().sum()\n",
        "display(missing_values)"
      ],
      "metadata": {
        "id": "N3ElKAbkCiwk"
      },
      "execution_count": null,
      "outputs": []
    },
    {
      "cell_type": "markdown",
      "source": [
        "# **04 Converta a coluna Date para o tipo datetime e cria uma nova coluna com o dia da semana correspondente**"
      ],
      "metadata": {
        "id": "FJbTaiSMBBVq"
      }
    },
    {
      "cell_type": "code",
      "source": [
        "df['Date'] = pd.to_datetime(df['Date'], format='%d/%m/%Y')\n",
        "df['DayOfWeek'] = df['Date'].dt.day_name()\n",
        "display(df.head())"
      ],
      "metadata": {
        "id": "ddaSxOqyBUOy"
      },
      "execution_count": null,
      "outputs": []
    },
    {
      "cell_type": "markdown",
      "source": [
        "# **05 Filtre os registros apenas do ano 2007 e calcule a média de consumo diário de Gblobal_active_power**"
      ],
      "metadata": {
        "id": "bmE0zERMCGhz"
      }
    },
    {
      "cell_type": "code",
      "source": [
        "df['Global_active_power'] = pd.to_numeric(df['Global_active_power'], errors='coerce')\n",
        "df_2007 = df[df['Date'].dt.year == 2007]\n",
        "\n",
        "daily_avg_power_2007 = df_2007.groupby('Date')['Global_active_power'].mean()\n",
        "display(daily_avg_power_2007)"
      ],
      "metadata": {
        "id": "VQvBu6a8B22N"
      },
      "execution_count": null,
      "outputs": []
    },
    {
      "cell_type": "markdown",
      "source": [
        "# **06. Gere um gráfico de linha mostrando a variação de Global_active_power em um único dia à sua escolha.**\n",
        "\n"
      ],
      "metadata": {
        "id": "IzqofY6JJ552"
      }
    },
    {
      "cell_type": "code",
      "source": [
        "import matplotlib.pyplot as plt\n",
        "\n",
        "date_to_plot = df['Date'].iloc[0]\n",
        "df_single_day = df[df['Date'] == date_to_plot].copy()\n",
        "\n",
        "df_single_day['Datetime'] = pd.to_datetime(df_single_day['Date'].astype(str) + ' ' + df_single_day['Time'])\n",
        "\n",
        "plt.figure(figsize=(12, 6))\n",
        "plt.plot(df_single_day['Datetime'], df_single_day['Global_active_power'])\n",
        "plt.xlabel('Time')\n",
        "plt.ylabel('Global Active Power (kW)')\n",
        "plt.title(f'Global Active Power Variation on {date_to_plot.strftime(\"%Y-%m-%d\")}')\n",
        "plt.grid(True)\n",
        "plt.show()"
      ],
      "metadata": {
        "id": "_ZSvTOK_KVr6"
      },
      "execution_count": null,
      "outputs": []
    },
    {
      "cell_type": "markdown",
      "source": [
        "# **07. Crie um histograma da variável Voltage. O que pode ser observado sobre sua distribuição?**"
      ],
      "metadata": {
        "id": "QalbdmEPKnl8"
      }
    },
    {
      "cell_type": "code",
      "source": [
        "import matplotlib.pyplot as plt\n",
        "\n",
        "df['Voltage'] = pd.to_numeric(df['Voltage'], errors='coerce')\n",
        "\n",
        "df.dropna(subset=['Voltage'], inplace=True)\n",
        "\n",
        "plt.figure(figsize=(10, 6))\n",
        "plt.hist(df['Voltage'], bins=50, edgecolor='black')\n",
        "plt.xlabel('Voltage (V)')\n",
        "plt.ylabel('Frequency')\n",
        "plt.title('Distribution of Voltage')\n",
        "plt.grid(True)\n",
        "plt.show()"
      ],
      "metadata": {
        "id": "nvZGejL3K2tN"
      },
      "execution_count": null,
      "outputs": []
    },
    {
      "cell_type": "markdown",
      "source": [
        "# **08. Calcule o consumo médio por mês em todo o período disponível no dataset.**"
      ],
      "metadata": {
        "id": "0n5-UJQ5LQrQ"
      }
    },
    {
      "cell_type": "code",
      "source": [
        "df['Month'] = df['Date'].dt.to_period('M')\n",
        "monthly_avg_power = df.groupby('Month')['Global_active_power'].mean()\n",
        "display(monthly_avg_power)"
      ],
      "metadata": {
        "id": "kXZwam-zLeBZ"
      },
      "execution_count": null,
      "outputs": []
    },
    {
      "cell_type": "markdown",
      "source": [
        "# **09. Identifique o dia com maior consumo de energia ativa global (Global_active_power).**"
      ],
      "metadata": {
        "id": "q88Y1D6qLzBb"
      }
    },
    {
      "cell_type": "code",
      "source": [
        "daily_power_sum = df.groupby('Date')['Global_active_power'].sum()\n",
        "day_with_highest_consumption = daily_power_sum.idxmax()\n",
        "highest_consumption_value = daily_power_sum.max()\n",
        "\n",
        "print(f\"O dia com maior consumo de energia ativa global é: {day_with_highest_consumption.strftime('%Y-%m-%d')}\")\n",
        "print(f\"Valor do maior consumo: {highest_consumption_value:.2f} kW\")"
      ],
      "metadata": {
        "id": "cdKhqeJLMAmK"
      },
      "execution_count": null,
      "outputs": []
    },
    {
      "cell_type": "markdown",
      "source": [
        "# **10. Compare o consumo médio de energia ativa global em dias de semana versus finais de semana.**"
      ],
      "metadata": {
        "id": "jJCFiT9FMoEU"
      }
    },
    {
      "cell_type": "code",
      "source": [
        "df['DayType'] = df['DayOfWeek'].apply(lambda x: 'Final de semana' if x in ['Saturday', 'Sunday'] else 'Dia de semana')\n",
        "\n",
        "average_power_by_daytype = df.groupby('DayType')['Global_active_power'].mean()\n",
        "\n",
        "display(average_power_by_daytype)"
      ],
      "metadata": {
        "id": "aweVoh2KMxql"
      },
      "execution_count": null,
      "outputs": []
    },
    {
      "cell_type": "markdown",
      "source": [
        "# ***15. Compare o consumo entre os meses de verão e inverno (no hemisfério norte).***"
      ],
      "metadata": {
        "id": "kASzqVCLEUd8"
      }
    },
    {
      "cell_type": "code",
      "metadata": {
        "id": "0cd6b713"
      },
      "source": [
        "summer_months = [6, 7, 8]\n",
        "df_summer = df[df['Date'].dt.month.isin(summer_months)]\n",
        "\n",
        "average_power_summer = df_summer['Global_active_power'].mean()\n",
        "\n",
        "winter_months = [12, 1, 2]\n",
        "df_winter = df[df['Date'].dt.month.isin(winter_months)]\n",
        "\n",
        "average_power_winter = df_winter['Global_active_power'].mean()\n",
        "\n",
        "print(f\"Consumo médio de energia ativa global no verão (Hemisfério Norte): {average_power_summer:.2f} kW\")\n",
        "print(f\"Consumo médio de energia ativa global no inverno (Hemisfério Norte): {average_power_winter:.2f} kW\")"
      ],
      "execution_count": null,
      "outputs": []
    },
    {
      "cell_type": "markdown",
      "source": [
        "# ***16. Aplique uma amostragem aleatória de 1% dos dados e verifique se a distribuição de Global_active_power é semelhante à da base completa***"
      ],
      "metadata": {
        "id": "8ifYUb2CEny7"
      }
    },
    {
      "cell_type": "code",
      "metadata": {
        "id": "ccac7c69"
      },
      "source": [
        "df_sample = df.sample(frac=0.01, random_state=42)\n",
        "\n",
        "plt.figure(figsize=(14, 6))\n",
        "\n",
        "plt.subplot(1, 2, 1)\n",
        "plt.hist(df['Global_active_power'], bins=50, edgecolor='black')\n",
        "plt.xlabel('Global Active Power (kW)')\n",
        "plt.ylabel('Frequência')\n",
        "plt.title('Distribuição da Potência Ativa Global (Full Dataset)')\n",
        "plt.grid(True)\n",
        "\n",
        "plt.subplot(1, 2, 2)\n",
        "plt.hist(df_sample['Global_active_power'], bins=50, edgecolor='black')\n",
        "plt.xlabel('Global Active Power (kW)')\n",
        "plt.ylabel('Frequência')\n",
        "plt.title('Distribuição da Potência Ativa Global (Amostra de 1%)')\n",
        "plt.grid(True)\n",
        "\n",
        "plt.tight_layout()"
      ],
      "execution_count": null,
      "outputs": []
    },
    {
      "cell_type": "markdown",
      "source": [
        "# ***17. Utilize uma técnica de normalização (Min-Max Scaling) para padronizar as variáveis numéricas principais.***\n",
        "\n"
      ],
      "metadata": {
        "id": "NnTIYVEPFW-r"
      }
    },
    {
      "cell_type": "code",
      "metadata": {
        "id": "1a66d800"
      },
      "source": [
        "from sklearn.preprocessing import MinMaxScaler\n",
        "\n",
        "numerical_cols = ['Global_active_power', 'Global_reactive_power', 'Voltage', 'Global_intensity', 'Sub_metering_1', 'Sub_metering_2', 'Sub_metering_3']\n",
        "\n",
        "scaler = MinMaxScaler()\n",
        "\n",
        "df_scaled = df.copy()\n",
        "df_scaled[numerical_cols] = scaler.fit_transform(df_scaled[numerical_cols])\n",
        "\n",
        "display(df_scaled.head())"
      ],
      "execution_count": null,
      "outputs": []
    },
    {
      "cell_type": "markdown",
      "source": [
        "# ***18. Aplique K-means para segmentar os dias em 3 grupos distintos de consumo elétrico. Interprete os resultados.***"
      ],
      "metadata": {
        "id": "xfMeo8P_Fpkq"
      }
    },
    {
      "cell_type": "code",
      "source": [],
      "metadata": {
        "id": "dVPh_Fb1F6FJ"
      },
      "execution_count": null,
      "outputs": []
    },
    {
      "cell_type": "code",
      "metadata": {
        "id": "5d092086"
      },
      "source": [
        "daily_consumption = df.groupby('Date')['Global_active_power'].sum().reset_index()\n",
        "display(daily_consumption.head())"
      ],
      "execution_count": null,
      "outputs": []
    },
    {
      "cell_type": "code",
      "metadata": {
        "id": "a98cf9fe"
      },
      "source": [
        "daily_power = daily_consumption['Global_active_power']\n",
        "\n",
        "X = daily_power.values.reshape(-1, 1)\n",
        "\n",
        "print(f\"Formato dos dados para K-means: {X.shape}\")"
      ],
      "execution_count": null,
      "outputs": []
    },
    {
      "cell_type": "code",
      "metadata": {
        "id": "bb6f2e35"
      },
      "source": [
        "from sklearn.cluster import KMeans\n",
        "\n",
        "kmeans = KMeans(n_clusters=3, random_state=42, n_init=10)\n",
        "\n",
        "kmeans.fit(X)"
      ],
      "execution_count": null,
      "outputs": []
    },
    {
      "cell_type": "code",
      "metadata": {
        "id": "b84d83d4"
      },
      "source": [
        "daily_consumption['Cluster'] = kmeans.labels_\n",
        "display(daily_consumption.head())"
      ],
      "execution_count": null,
      "outputs": []
    },
    {
      "cell_type": "code",
      "metadata": {
        "id": "95bc1281"
      },
      "source": [
        "average_consumption_per_cluster = daily_consumption.groupby('Cluster')['Global_active_power'].mean()\n",
        "\n",
        "print(\"Potência Ativa Global Média por Cluster:\")\n",
        "display(average_consumption_per_cluster)\n",
        "\n",
        "plt.figure(figsize=(10, 6))\n",
        "plt.scatter(daily_consumption.index, daily_consumption['Global_active_power'], c=daily_consumption['Cluster'], cmap='viridis')\n",
        "plt.xlabel('Índice de Dias')\n",
        "plt.ylabel('Global Active Power (kW)')\n",
        "plt.title('Agrupamento K-means do Consumo Diário de Potência Ativa Global')\n",
        "plt.colorbar(label='Cluster')\n",
        "plt.grid(True)\n",
        "plt.show()"
      ],
      "execution_count": null,
      "outputs": []
    },
    {
      "cell_type": "markdown",
      "source": [
        "# ***19. Realize uma decomposição de série temporal (tendência, sazonalidade e resíduo) para Global_active_power em um período de 6 meses.*`**"
      ],
      "metadata": {
        "id": "_VZ3g_JnHVhf"
      }
    },
    {
      "cell_type": "code",
      "metadata": {
        "id": "bace89bc"
      },
      "source": [
        "df['Date'] = pd.to_datetime(df['Date'])\n",
        "\n",
        "start_date = '2007-01-01'\n",
        "end_date = '2007-06-30'\n",
        "\n",
        "df_period = df[(df['Date'] >= start_date) & (df['Date'] <= end_date)].copy()\n",
        "\n",
        "display(df_period.head())"
      ],
      "execution_count": null,
      "outputs": []
    },
    {
      "cell_type": "code",
      "metadata": {
        "id": "d86e9132"
      },
      "source": [
        "df_period['Datetime'] = pd.to_datetime(df_period['Date'].astype(str) + ' ' + df_period['Time'])\n",
        "df_period.set_index('Datetime', inplace=True)\n",
        "\n",
        "daily_power_series = df_period['Global_active_power'].resample('D').mean()\n",
        "\n",
        "display(daily_power_series.head())"
      ],
      "execution_count": null,
      "outputs": []
    },
    {
      "cell_type": "code",
      "metadata": {
        "id": "9sDDbNaHIEl3"
      },
      "source": [
        "from statsmodels.tsa.seasonal import seasonal_decompose\n",
        "\n",
        "daily_power_series_filled = daily_power_series.interpolate()\n",
        "\n",
        "decomposition = seasonal_decompose(daily_power_series_filled, model='additive', period=7)"
      ],
      "execution_count": null,
      "outputs": []
    },
    {
      "cell_type": "code",
      "metadata": {
        "id": "bfed97a3"
      },
      "source": [
        "fig = decomposition.plot()\n",
        "fig.set_size_inches(12, 8)\n",
        "plt.suptitle('Decomposição da Série Temporal da Potência Ativa Global Diária (6 Meses)', y=1.02)\n",
        "plt.show()"
      ],
      "execution_count": null,
      "outputs": []
    },
    {
      "cell_type": "markdown",
      "source": [
        "# ***20. Treine um modelo de regressão linear simples para prever Global_active_power a partir de Global_intensity. Avalie o erro do modelo***"
      ],
      "metadata": {
        "id": "2kR5xdV1I3SR"
      }
    },
    {
      "cell_type": "code",
      "metadata": {
        "id": "a1a8fdaa"
      },
      "source": [
        "X = df[['Global_intensity']]\n",
        "y = df['Global_active_power']\n",
        "\n",
        "display(X.head())\n",
        "display(y.head())"
      ],
      "execution_count": null,
      "outputs": []
    },
    {
      "cell_type": "code",
      "metadata": {
        "id": "3dde2803"
      },
      "source": [
        "from sklearn.model_selection import train_test_split\n",
        "\n",
        "X_train, X_test, y_train, y_test = train_test_split(X, y, test_size=0.2, random_state=42)\n",
        "\n",
        "print(f\"Shape of X_train: {X_train.shape}\")\n",
        "print(f\"Shape of X_test: {X_test.shape}\")\n",
        "print(f\"Shape of y_train: {y_train.shape}\")\n",
        "print(f\"Shape of y_test: {y_test.shape}\")"
      ],
      "execution_count": null,
      "outputs": []
    },
    {
      "cell_type": "code",
      "metadata": {
        "id": "3d2b32ae"
      },
      "source": [
        "from sklearn.linear_model import LinearRegression\n",
        "\n",
        "model = LinearRegression()\n",
        "\n",
        "model.fit(X_train, y_train)"
      ],
      "execution_count": null,
      "outputs": []
    },
    {
      "cell_type": "code",
      "metadata": {
        "id": "867ac8d0"
      },
      "source": [
        "y_pred = model.predict(X_test)\n",
        "\n",
        "print(\"Primeiras 5 previsões:\")\n",
        "print(y_pred[:5])"
      ],
      "execution_count": null,
      "outputs": []
    },
    {
      "cell_type": "code",
      "metadata": {
        "id": "6fa0cfc5"
      },
      "source": [
        "from sklearn.metrics import mean_squared_error, r2_score\n",
        "\n",
        "mse = mean_squared_error(y_test, y_pred)\n",
        "\n",
        "r2 = r2_score(y_test, y_pred)\n",
        "\n",
        "print(f\"Erro Quadrático Médio (MSE): {mse:.4f}\")\n",
        "print(f\"R-quadrado (R2): {r2:.4f}\")"
      ],
      "execution_count": null,
      "outputs": []
    },
    {
      "cell_type": "markdown",
      "source": [
        "# ***21***"
      ],
      "metadata": {
        "id": "vhZleqGgLUKm"
      }
    },
    {
      "cell_type": "code",
      "source": [],
      "metadata": {
        "id": "3y9IJYr8L3b-"
      },
      "execution_count": null,
      "outputs": []
    },
    {
      "cell_type": "code",
      "metadata": {
        "id": "5cae74b2"
      },
      "source": [
        "df['Datetime'] = pd.to_datetime(df['Date'].astype(str) + ' ' + df['Time'], format='%Y-%m-%d %H:%M:%S')\n",
        "df.set_index('Datetime', inplace=True)\n",
        "df.drop(['Date', 'Time'], axis=1, inplace=True)\n",
        "display(df.head())"
      ],
      "execution_count": null,
      "outputs": []
    },
    {
      "cell_type": "code",
      "metadata": {
        "id": "172b38c7"
      },
      "source": [
        "df_hourly = df['Global_active_power'].resample('H').mean()\n",
        "display(df_hourly.head())"
      ],
      "execution_count": null,
      "outputs": []
    },
    {
      "cell_type": "code",
      "metadata": {
        "id": "217d33cb"
      },
      "source": [
        "df_hourly = df['Global_active_power'].resample('H').mean()\n",
        "hourly_avg_power = df_hourly.groupby(df_hourly.index.hour).mean()\n",
        "peak_hours = hourly_avg_power.sort_values(ascending=False)\n",
        "display(peak_hours)"
      ],
      "execution_count": null,
      "outputs": []
    },
    {
      "cell_type": "markdown",
      "source": [
        "# ***22***"
      ],
      "metadata": {
        "id": "__XAnIY5MYs4"
      }
    },
    {
      "cell_type": "code",
      "metadata": {
        "id": "b046d25a"
      },
      "source": [
        "from statsmodels.tsa.stattools import acf\n",
        "\n",
        "autocorr_lag1 = acf(df_hourly, nlags=1)[1]\n",
        "\n",
        "autocorr_lag24 = acf(df_hourly, nlags=24)[24]\n",
        "\n",
        "autocorr_lag48 = acf(df_hourly, nlags=48)[48]\n",
        "\n",
        "print(f\"Autocorrelação no atraso de 1 horas: {autocorr_lag1:.4f}\")\n",
        "print(f\"Autocorrelação no atraso de 24 horas: {autocorr_lag24:.4f}\")\n",
        "print(f\"Autocorrelação no atraso de 48 horas: {autocorr_lag48:.4f}\")"
      ],
      "execution_count": null,
      "outputs": []
    },
    {
      "cell_type": "code",
      "metadata": {
        "id": "u16Sz9UrMvtG"
      },
      "source": [
        "from statsmodels.tsa.stattools import acf\n",
        "\n",
        "autocorr_lag1 = acf(df_hourly, nlags=1)[1]\n",
        "\n",
        "autocorr_lag24 = acf(df_hourly, nlags=24)[24]\n",
        "\n",
        "autocorr_lag48 = acf(df_hourly, nlags=48)[48]\n",
        "\n",
        "print(f\"Autocorrelação no atraso de 1 horas: {autocorr_lag1:.4f}\")\n",
        "print(f\"Autocorrelação no atraso de 24 horas: {autocorr_lag24:.4f}\")\n",
        "print(f\"Autocorrelação no atraso de 48 horas: {autocorr_lag48:.4f}\")"
      ],
      "execution_count": null,
      "outputs": []
    },
    {
      "cell_type": "code",
      "metadata": {
        "id": "06514b17"
      },
      "source": [
        "df_hourly_filled = df_hourly.interpolate(method='linear')\n",
        "\n",
        "autocorr_lag1 = acf(df_hourly_filled, nlags=1)[1]\n",
        "\n",
        "autocorr_lag24 = acf(df_hourly_filled, nlags=24)[24]\n",
        "\n",
        "autocorr_lag48 = acf(df_hourly_filled, nlags=48)[48]\n",
        "\n",
        "print(f\"Autocorrelação no atraso de 1 horas: {autocorr_lag1:.4f}\")\n",
        "print(f\"Autocorrelação no atraso de 24 horas: {autocorr_lag24:.4f}\")\n",
        "print(f\"Autocorrelação no atraso de 48 horas: {autocorr_lag48:.4f}\")"
      ],
      "execution_count": null,
      "outputs": []
    },
    {
      "cell_type": "code",
      "metadata": {
        "id": "82476f63"
      },
      "source": [
        "print(\"Interpretação dos Valores de Autocorrelação:\")\n",
        "print(f\"- Autocorrelação no atraso de 1 horas ({autocorr_lag1:.4f}): Esse valor é relativamente alto e positivo. Ele indica uma forte correlação positiva entre o consumo de potência ativa global em uma determinada hora e o consumo na hora anterior. Isso sugere que o consumo de energia tende a ser semelhante de uma hora para a outra.\")\n",
        "print(f\"- Autocorrelação no atraso de 24 horas ({autocorr_lag24:.4f}): Esse valor também é positivo e moderadamente alto, embora menor do que no atraso de 1 hora. Uma autocorrelação positiva no atraso de 24 horas sugere uma correlação positiva entre o consumo de energia em uma determinada hora e o consumo exatamente 24 horas antes (a mesma hora no dia anterior). Isso é um forte indicador de um padrão diário repetitivo no consumo de energia.\")\n",
        "print(f\"- Autocorrelação no atraso de 48 horas ({autocorr_lag48:.4f}): Esse valor é positivo, mas um pouco menor do que no atraso de 24 horas. Ele indica uma correlação positiva entre o consumo de energia em uma determinada hora e o consumo 48 horas antes (a mesma hora dois dias antes). O fato de ainda ser positivo e relativamente alto reforça a presença de padrões recorrentes, embora potencialmente com uma correlação um pouco menos forte do que o atraso diário imediato.\")\n",
        "\n",
        "print(\"\\nConclusão:\")\n",
        "print(\"Com base nos valores de autocorrelação, particularmente o valor positivo significativo no atraso de 24 horas, existem padrões diários repetitivos evidentes na série temporal de Potência Ativa Global. O consumo de energia tende a seguir um padrão semelhante a cada dia, com o consumo em uma hora específica estando positivamente correlacionado com o consumo na mesma hora do dia anterior.\")"
      ],
      "execution_count": null,
      "outputs": []
    },
    {
      "cell_type": "markdown",
      "source": [
        "# ***Pergunta: existem padrões repetidos diariamente?***\n",
        "\n",
        "\n",
        "Com base nos valores de autocorrelação, particularmente o valor positivo significativo no lag de 24 horas, existem padrões diários repetidos notáveis na série temporal de Global_active_power. O consumo de energia tende a seguir um padrão semelhante a cada dia, com o consumo em uma hora específica sendo positivamente correlacionado com o consumo na mesma hora do dia anterior."
      ],
      "metadata": {
        "id": "wzibh-C3SXvY"
      }
    },
    {
      "cell_type": "markdown",
      "source": [
        "# ***23***"
      ],
      "metadata": {
        "id": "HV9PvH-LOgy9"
      }
    },
    {
      "cell_type": "code",
      "metadata": {
        "id": "2bd642d6"
      },
      "source": [
        "features = df[['Global_active_power', 'Global_reactive_power', 'Voltage', 'Global_intensity']]\n",
        "display(features.head())"
      ],
      "execution_count": null,
      "outputs": []
    },
    {
      "cell_type": "code",
      "metadata": {
        "id": "ad958d19"
      },
      "source": [
        "from sklearn.decomposition import PCA\n",
        "\n",
        "pca = PCA(n_components=2, random_state=42)\n",
        "\n",
        "df_pca = pd.DataFrame(pca.fit_transform(features), columns=['PC1', 'PC2'])\n",
        "display(df_pca.head())"
      ],
      "execution_count": null,
      "outputs": []
    },
    {
      "cell_type": "code",
      "metadata": {
        "id": "fd86bc4b"
      },
      "source": [
        "explained_variance_ratio = pca.explained_variance_ratio_\n",
        "print(\"Proporção da variância explicada de cada componente:\")\n",
        "print(explained_variance_ratio)\n",
        "\n",
        "cumulative_explained_variance = explained_variance_ratio.sum()\n",
        "print(f\"\\nProporção acumulada da variância explicada pelos dois primeiros componentes: {cumulative_explained_variance:.4f}\")"
      ],
      "execution_count": null,
      "outputs": []
    },
    {
      "cell_type": "code",
      "metadata": {
        "id": "ad51f438"
      },
      "source": [
        "import matplotlib.pyplot as plt\n",
        "\n",
        "plt.figure(figsize=(10, 8))\n",
        "plt.scatter(df_pca['PC1'], df_pca['PC2'], alpha=0.5, s=1)\n",
        "plt.xlabel('Principal Componente 1')\n",
        "plt.ylabel('Principal Componente 2')\n",
        "plt.title('PCA dos Dados de Consumo de Energia (2 Componentes)')\n",
        "plt.grid(True)\n",
        "plt.show()"
      ],
      "execution_count": null,
      "outputs": []
    },
    {
      "cell_type": "markdown",
      "source": [
        "# ***24***"
      ],
      "metadata": {
        "id": "H4L_T-m-Phnh"
      }
    },
    {
      "cell_type": "code",
      "metadata": {
        "id": "ff30ccd2"
      },
      "source": [
        "daily_consumption_indexed = daily_consumption.set_index('Data')\n",
        "\n",
        "df['Cluster'] = df.index.normalize().map(daily_consumption_indexed['Cluster'])\n",
        "\n",
        "df_pca = df_pca.set_index(df.index)\n",
        "df_pca['Cluster'] = df['Cluster']\n",
        "\n",
        "df_pca.dropna(subset=['Cluster'], inplace=True)\n",
        "\n",
        "df_pca['Cluster'] = df_pca['Cluster'].astype(int)\n",
        "\n",
        "display(df_pca.head())"
      ],
      "execution_count": null,
      "outputs": []
    },
    {
      "cell_type": "code",
      "metadata": {
        "id": "a15acc0b"
      },
      "source": [
        "plt.figure(figsize=(10, 8))\n",
        "plt.scatter(df_pca['PC1'], df_pca['PC2'], c=df_pca['Cluster'], cmap='viridis', s=1, alpha=0.5)\n",
        "plt.xlabel('Principal Componente 1')\n",
        "plt.ylabel('Principal Componente 2')\n",
        "plt.title('Clusters de K-means no Espaço PCA')\n",
        "plt.colorbar(label='Cluster')\n",
        "plt.grid(True)\n",
        "plt.show()"
      ],
      "execution_count": null,
      "outputs": []
    },
    {
      "cell_type": "markdown",
      "source": [
        "# ***Os grupos se separam?***\n",
        "\n",
        "Observando o gráfico de dispersão dos clusters de K-means no espaço ACP, os grupos não parecem estar claramente separados. Há uma sobreposição significativa entre os clusters, sugerindo que as características usadas para o agrupamento, quando reduzidas a dois componentes principais, não diferenciam os grupos de forma distinta."
      ],
      "metadata": {
        "id": "LE-pgC3PRDzc"
      }
    },
    {
      "cell_type": "markdown",
      "source": [
        "# ***25***"
      ],
      "metadata": {
        "id": "XDSgEBurRORd"
      }
    },
    {
      "cell_type": "code",
      "metadata": {
        "id": "f909b8bf"
      },
      "source": [
        "from sklearn.model_selection import train_test_split\n",
        "\n",
        "features_voltage = df[['Voltage']]\n",
        "target_power = df['Global_active_power']\n",
        "\n",
        "X_train_voltage, X_test_voltage, y_train_power, y_test_power = train_test_split(\n",
        "    features_voltage, target_power, test_size=0.2, random_state=42\n",
        ")\n",
        "\n",
        "print(f\"Formato de X_train_voltage: {X_train_voltage.shape}\")\n",
        "print(f\"Formato de X_test_voltage: {X_test_voltage.shape}\")\n",
        "print(f\"Formato de y_train_power: {y_train_power.shape}\")\n",
        "print(f\"Formato de y_test_power: {y_test_power.shape}\")"
      ],
      "execution_count": null,
      "outputs": []
    },
    {
      "cell_type": "code",
      "metadata": {
        "id": "db06f034"
      },
      "source": [
        "from sklearn.linear_model import LinearRegression\n",
        "\n",
        "linear_model = LinearRegression()\n",
        "linear_model.fit(X_train_voltage, y_train_power)"
      ],
      "execution_count": null,
      "outputs": []
    },
    {
      "cell_type": "code",
      "metadata": {
        "id": "3fda9d31"
      },
      "source": [
        "from sklearn.preprocessing import PolynomialFeatures\n",
        "from sklearn.linear_model import LinearRegression\n",
        "\n",
        "poly_features = PolynomialFeatures(degree=2)\n",
        "\n",
        "X_train_voltage_poly = poly_features.fit_transform(X_train_voltage)\n",
        "X_test_voltage_poly = poly_features.transform(X_test_voltage)\n",
        "\n",
        "poly_model = LinearRegression()\n",
        "poly_model.fit(X_train_voltage_poly, y_train_power)"
      ],
      "execution_count": null,
      "outputs": []
    },
    {
      "cell_type": "code",
      "metadata": {
        "id": "100a6436"
      },
      "source": [
        "from sklearn.metrics import mean_squared_error\n",
        "import numpy as np\n",
        "\n",
        "y_pred_linear = linear_model.predict(X_test_voltage)\n",
        "\n",
        "rmse_linear = np.sqrt(mean_squared_error(y_test_power, y_pred_linear))\n",
        "\n",
        "y_pred_poly = poly_model.predict(X_test_voltage_poly)\n",
        "\n",
        "rmse_poly = np.sqrt(mean_squared_error(y_test_power, y_pred_poly))\n",
        "\n",
        "print(f\"Raiz do Erro Quadrático Médio (RMSE) para o Modelo Linear: {rmse_linear:.4f}\")\n",
        "print(f\"Raiz do Erro Quadrático Médio (RMSE) para o Modelo Polinomial: {rmse_poly:.4f}\")"
      ],
      "execution_count": null,
      "outputs": []
    },
    {
      "cell_type": "code",
      "metadata": {
        "id": "bc28ed5c"
      },
      "source": [
        "import matplotlib.pyplot as plt\n",
        "\n",
        "plt.figure(figsize=(12, 8))\n",
        "plt.scatter(X_test_voltage, y_test_power, alpha=0.5, s=1, label='Original Data')\n",
        "\n",
        "X_test_voltage_sorted = X_test_voltage.sort_values(by='Voltage')\n",
        "\n",
        "y_pred_linear_sorted = linear_model.predict(X_test_voltage_sorted)\n",
        "\n",
        "X_test_voltage_sorted_poly = poly_features.transform(X_test_voltage_sorted)\n",
        "y_pred_poly_sorted = poly_model.predict(X_test_voltage_sorted_poly)\n",
        "\n",
        "plt.plot(X_test_voltage_sorted, y_pred_linear_sorted, color='red', label='Linear Fit')\n",
        "\n",
        "plt.plot(X_test_voltage_sorted, y_pred_poly_sorted, color='green', label='Polynomial Fit')\n",
        "\n",
        "plt.xlabel('Tensão (V)')\n",
        "plt.ylabel('Potência Ativa Global (kW)')\n",
        "plt.title('Ajuste de Regressão Linear vs Polinomial em Tensão e Potência Ativa Global')\n",
        "plt.legend()\n",
        "plt.grid(True)\n",
        "plt.show()"
      ],
      "execution_count": null,
      "outputs": []
    },
    {
      "cell_type": "code",
      "metadata": {
        "id": "d52f0567"
      },
      "source": [
        "print(f\"Comparação do Desempenho dos Modelos (RMSE):\")\n",
        "print(f\"RMSE do Modelo Linear: {rmse_linear:.4f}\")\n",
        "print(f\"RMSE do Modelo Polinomial: {rmse_poly:.4f}\")\n",
        "\n",
        "if rmse_poly < rmse_linear:\n",
        "    print(\"\\nO modelo de Regressão Polinomial apresenta um RMSE menor e fornece um ajuste ligeiramente melhor com base nessa métrica.\")\n",
        "elif rmse_linear < rmse_poly:\n",
        "    print(\"\\nO modelo de Regressão Linear apresenta um RMSE menor e fornece um ajuste ligeiramente melhor com base nessa métrica.\")\n",
        "else:\n",
        "    print(\"\\nAmbos os modelos possuem o mesmo RMSE.\")\n",
        "\n",
        "print(\"\\nInterpretação Visual das Curvas Ajustadas:\")\n",
        "print(\"Observando o gráfico, o modelo de regressão linear ajusta uma linha reta aos dados. Essa linha captura a tendência geral, mas não acompanha as nuances da distribuição dos dados.\")\n",
        "print(\"O modelo de regressão polinomial (grau 2) ajusta uma curva aos dados. Essa curva parece seguir a distribuição dos pontos de dados mais de perto do que a linha reta, especialmente em áreas onde os dados apresentam uma leve curvatura.\")\n",
        "print(\"Com base na inspeção visual, o modelo polinomial parece capturar melhor a relação entre Tensão e Potência Ativa Global do que o modelo linear simples.\")\n",
        "\n",
        "print(\"\\nConclusão Geral:\")\n",
        "print(\"Tanto as avaliações quantitativas (RMSE) quanto qualitativas (visuais) sugerem que o modelo de regressão polinomial fornece um ajuste ligeiramente melhor aos dados para prever a Potência Ativa Global com base na Tensão, em comparação com o modelo linear simples. O valor menor de RMSE e a curva com melhor ajuste visual indicam que a incorporação de um termo polinomial para a Tensão melhora a capacidade do modelo de capturar o padrão subjacente.\")"
      ],
      "execution_count": null,
      "outputs": []
    }
  ]
}